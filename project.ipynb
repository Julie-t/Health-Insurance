{
 "cells": [
  {
   "cell_type": "markdown",
   "id": "f5de9420",
   "metadata": {},
   "source": [
    "# Health Insurance Predictions\n",
    "\n",
    "## Business Question\n",
    "\"How do personal and lifestyle factors such as age, BMI, and smoking habits impact medical insurance charges, and how can this information be used to develop risk-based pricing strategies?\""
   ]
  },
  {
   "cell_type": "code",
   "execution_count": 1,
   "id": "b48f59fa",
   "metadata": {},
   "outputs": [],
   "source": [
    "import pandas as pd\n",
    "import numpy as np\n",
    "import matplotlib.pyplot as plt\n",
    "from sklearn.linear_model import LinearRegression\n",
    "from sklearn.model_selection import train_test_split\n",
    "from sklearn.preprocessing import OneHotEncoder, StandardScaler\n"
   ]
  },
  {
   "cell_type": "code",
   "execution_count": 2,
   "id": "cf64edb9",
   "metadata": {},
   "outputs": [
    {
     "data": {
      "application/vnd.microsoft.datawrangler.viewer.v0+json": {
       "columns": [
        {
         "name": "index",
         "rawType": "int64",
         "type": "integer"
        },
        {
         "name": "age",
         "rawType": "int64",
         "type": "integer"
        },
        {
         "name": "sex",
         "rawType": "object",
         "type": "string"
        },
        {
         "name": "bmi",
         "rawType": "float64",
         "type": "float"
        },
        {
         "name": "children",
         "rawType": "int64",
         "type": "integer"
        },
        {
         "name": "smoker",
         "rawType": "object",
         "type": "string"
        },
        {
         "name": "region",
         "rawType": "object",
         "type": "string"
        },
        {
         "name": "charges",
         "rawType": "float64",
         "type": "float"
        }
       ],
       "ref": "d8253dd7-e29b-47c9-98cf-b1bc8ee95763",
       "rows": [
        [
         "0",
         "19",
         "female",
         "27.9",
         "0",
         "yes",
         "southwest",
         "16884.924"
        ],
        [
         "1",
         "18",
         "male",
         "33.77",
         "1",
         "no",
         "southeast",
         "1725.5523"
        ],
        [
         "2",
         "28",
         "male",
         "33.0",
         "3",
         "no",
         "southeast",
         "4449.462"
        ],
        [
         "3",
         "33",
         "male",
         "22.705",
         "0",
         "no",
         "northwest",
         "21984.47061"
        ],
        [
         "4",
         "32",
         "male",
         "28.88",
         "0",
         "no",
         "northwest",
         "3866.8552"
        ],
        [
         "5",
         "31",
         "female",
         "25.74",
         "0",
         "no",
         "southeast",
         "3756.6216"
        ],
        [
         "6",
         "46",
         "female",
         "33.44",
         "1",
         "no",
         "southeast",
         "8240.5896"
        ],
        [
         "7",
         "37",
         "female",
         "27.74",
         "3",
         "no",
         "northwest",
         "7281.5056"
        ],
        [
         "8",
         "37",
         "male",
         "29.83",
         "2",
         "no",
         "northeast",
         "6406.4107"
        ],
        [
         "9",
         "60",
         "female",
         "25.84",
         "0",
         "no",
         "northwest",
         "28923.136919999997"
        ],
        [
         "10",
         "25",
         "male",
         "26.22",
         "0",
         "no",
         "northeast",
         "2721.3208"
        ],
        [
         "11",
         "62",
         "female",
         "26.29",
         "0",
         "yes",
         "southeast",
         "27808.7251"
        ],
        [
         "12",
         "23",
         "male",
         "34.4",
         "0",
         "no",
         "southwest",
         "1826.8429999999998"
        ],
        [
         "13",
         "56",
         "female",
         "39.82",
         "0",
         "no",
         "southeast",
         "11090.7178"
        ],
        [
         "14",
         "27",
         "male",
         "42.13",
         "0",
         "yes",
         "southeast",
         "39611.7577"
        ],
        [
         "15",
         "19",
         "male",
         "24.6",
         "1",
         "no",
         "southwest",
         "1837.237"
        ],
        [
         "16",
         "52",
         "female",
         "30.78",
         "1",
         "no",
         "northeast",
         "10797.3362"
        ],
        [
         "17",
         "23",
         "male",
         "23.845",
         "0",
         "no",
         "northeast",
         "2395.17155"
        ],
        [
         "18",
         "56",
         "male",
         "40.3",
         "0",
         "no",
         "southwest",
         "10602.385"
        ],
        [
         "19",
         "30",
         "male",
         "35.3",
         "0",
         "yes",
         "southwest",
         "36837.467000000004"
        ],
        [
         "20",
         "60",
         "female",
         "36.005",
         "0",
         "no",
         "northeast",
         "13228.84695"
        ],
        [
         "21",
         "30",
         "female",
         "32.4",
         "1",
         "no",
         "southwest",
         "4149.736"
        ],
        [
         "22",
         "18",
         "male",
         "34.1",
         "0",
         "no",
         "southeast",
         "1137.011"
        ],
        [
         "23",
         "34",
         "female",
         "31.92",
         "1",
         "yes",
         "northeast",
         "37701.8768"
        ],
        [
         "24",
         "37",
         "male",
         "28.025",
         "2",
         "no",
         "northwest",
         "6203.90175"
        ],
        [
         "25",
         "59",
         "female",
         "27.72",
         "3",
         "no",
         "southeast",
         "14001.1338"
        ],
        [
         "26",
         "63",
         "female",
         "23.085",
         "0",
         "no",
         "northeast",
         "14451.83515"
        ],
        [
         "27",
         "55",
         "female",
         "32.775",
         "2",
         "no",
         "northwest",
         "12268.63225"
        ],
        [
         "28",
         "23",
         "male",
         "17.385",
         "1",
         "no",
         "northwest",
         "2775.19215"
        ],
        [
         "29",
         "31",
         "male",
         "36.3",
         "2",
         "yes",
         "southwest",
         "38711.0"
        ],
        [
         "30",
         "22",
         "male",
         "35.6",
         "0",
         "yes",
         "southwest",
         "35585.576"
        ],
        [
         "31",
         "18",
         "female",
         "26.315",
         "0",
         "no",
         "northeast",
         "2198.18985"
        ],
        [
         "32",
         "19",
         "female",
         "28.6",
         "5",
         "no",
         "southwest",
         "4687.7970000000005"
        ],
        [
         "33",
         "63",
         "male",
         "28.31",
         "0",
         "no",
         "northwest",
         "13770.0979"
        ],
        [
         "34",
         "28",
         "male",
         "36.4",
         "1",
         "yes",
         "southwest",
         "51194.55914"
        ],
        [
         "35",
         "19",
         "male",
         "20.425",
         "0",
         "no",
         "northwest",
         "1625.43375"
        ],
        [
         "36",
         "62",
         "female",
         "32.965",
         "3",
         "no",
         "northwest",
         "15612.19335"
        ],
        [
         "37",
         "26",
         "male",
         "20.8",
         "0",
         "no",
         "southwest",
         "2302.3"
        ],
        [
         "38",
         "35",
         "male",
         "36.67",
         "1",
         "yes",
         "northeast",
         "39774.2763"
        ],
        [
         "39",
         "60",
         "male",
         "39.9",
         "0",
         "yes",
         "southwest",
         "48173.361"
        ],
        [
         "40",
         "24",
         "female",
         "26.6",
         "0",
         "no",
         "northeast",
         "3046.062"
        ],
        [
         "41",
         "31",
         "female",
         "36.63",
         "2",
         "no",
         "southeast",
         "4949.7587"
        ],
        [
         "42",
         "41",
         "male",
         "21.78",
         "1",
         "no",
         "southeast",
         "6272.4772"
        ],
        [
         "43",
         "37",
         "female",
         "30.8",
         "2",
         "no",
         "southeast",
         "6313.759"
        ],
        [
         "44",
         "38",
         "male",
         "37.05",
         "1",
         "no",
         "northeast",
         "6079.6715"
        ],
        [
         "45",
         "55",
         "male",
         "37.3",
         "0",
         "no",
         "southwest",
         "20630.28351"
        ],
        [
         "46",
         "18",
         "female",
         "38.665",
         "2",
         "no",
         "northeast",
         "3393.35635"
        ],
        [
         "47",
         "28",
         "female",
         "34.77",
         "0",
         "no",
         "northwest",
         "3556.9223"
        ],
        [
         "48",
         "60",
         "female",
         "24.53",
         "0",
         "no",
         "southeast",
         "12629.8967"
        ],
        [
         "49",
         "36",
         "male",
         "35.2",
         "1",
         "yes",
         "southeast",
         "38709.176"
        ]
       ],
       "shape": {
        "columns": 7,
        "rows": 1338
       }
      },
      "text/html": [
       "<div>\n",
       "<style scoped>\n",
       "    .dataframe tbody tr th:only-of-type {\n",
       "        vertical-align: middle;\n",
       "    }\n",
       "\n",
       "    .dataframe tbody tr th {\n",
       "        vertical-align: top;\n",
       "    }\n",
       "\n",
       "    .dataframe thead th {\n",
       "        text-align: right;\n",
       "    }\n",
       "</style>\n",
       "<table border=\"1\" class=\"dataframe\">\n",
       "  <thead>\n",
       "    <tr style=\"text-align: right;\">\n",
       "      <th></th>\n",
       "      <th>age</th>\n",
       "      <th>sex</th>\n",
       "      <th>bmi</th>\n",
       "      <th>children</th>\n",
       "      <th>smoker</th>\n",
       "      <th>region</th>\n",
       "      <th>charges</th>\n",
       "    </tr>\n",
       "  </thead>\n",
       "  <tbody>\n",
       "    <tr>\n",
       "      <th>0</th>\n",
       "      <td>19</td>\n",
       "      <td>female</td>\n",
       "      <td>27.900</td>\n",
       "      <td>0</td>\n",
       "      <td>yes</td>\n",
       "      <td>southwest</td>\n",
       "      <td>16884.92400</td>\n",
       "    </tr>\n",
       "    <tr>\n",
       "      <th>1</th>\n",
       "      <td>18</td>\n",
       "      <td>male</td>\n",
       "      <td>33.770</td>\n",
       "      <td>1</td>\n",
       "      <td>no</td>\n",
       "      <td>southeast</td>\n",
       "      <td>1725.55230</td>\n",
       "    </tr>\n",
       "    <tr>\n",
       "      <th>2</th>\n",
       "      <td>28</td>\n",
       "      <td>male</td>\n",
       "      <td>33.000</td>\n",
       "      <td>3</td>\n",
       "      <td>no</td>\n",
       "      <td>southeast</td>\n",
       "      <td>4449.46200</td>\n",
       "    </tr>\n",
       "    <tr>\n",
       "      <th>3</th>\n",
       "      <td>33</td>\n",
       "      <td>male</td>\n",
       "      <td>22.705</td>\n",
       "      <td>0</td>\n",
       "      <td>no</td>\n",
       "      <td>northwest</td>\n",
       "      <td>21984.47061</td>\n",
       "    </tr>\n",
       "    <tr>\n",
       "      <th>4</th>\n",
       "      <td>32</td>\n",
       "      <td>male</td>\n",
       "      <td>28.880</td>\n",
       "      <td>0</td>\n",
       "      <td>no</td>\n",
       "      <td>northwest</td>\n",
       "      <td>3866.85520</td>\n",
       "    </tr>\n",
       "    <tr>\n",
       "      <th>...</th>\n",
       "      <td>...</td>\n",
       "      <td>...</td>\n",
       "      <td>...</td>\n",
       "      <td>...</td>\n",
       "      <td>...</td>\n",
       "      <td>...</td>\n",
       "      <td>...</td>\n",
       "    </tr>\n",
       "    <tr>\n",
       "      <th>1333</th>\n",
       "      <td>50</td>\n",
       "      <td>male</td>\n",
       "      <td>30.970</td>\n",
       "      <td>3</td>\n",
       "      <td>no</td>\n",
       "      <td>northwest</td>\n",
       "      <td>10600.54830</td>\n",
       "    </tr>\n",
       "    <tr>\n",
       "      <th>1334</th>\n",
       "      <td>18</td>\n",
       "      <td>female</td>\n",
       "      <td>31.920</td>\n",
       "      <td>0</td>\n",
       "      <td>no</td>\n",
       "      <td>northeast</td>\n",
       "      <td>2205.98080</td>\n",
       "    </tr>\n",
       "    <tr>\n",
       "      <th>1335</th>\n",
       "      <td>18</td>\n",
       "      <td>female</td>\n",
       "      <td>36.850</td>\n",
       "      <td>0</td>\n",
       "      <td>no</td>\n",
       "      <td>southeast</td>\n",
       "      <td>1629.83350</td>\n",
       "    </tr>\n",
       "    <tr>\n",
       "      <th>1336</th>\n",
       "      <td>21</td>\n",
       "      <td>female</td>\n",
       "      <td>25.800</td>\n",
       "      <td>0</td>\n",
       "      <td>no</td>\n",
       "      <td>southwest</td>\n",
       "      <td>2007.94500</td>\n",
       "    </tr>\n",
       "    <tr>\n",
       "      <th>1337</th>\n",
       "      <td>61</td>\n",
       "      <td>female</td>\n",
       "      <td>29.070</td>\n",
       "      <td>0</td>\n",
       "      <td>yes</td>\n",
       "      <td>northwest</td>\n",
       "      <td>29141.36030</td>\n",
       "    </tr>\n",
       "  </tbody>\n",
       "</table>\n",
       "<p>1338 rows × 7 columns</p>\n",
       "</div>"
      ],
      "text/plain": [
       "      age     sex     bmi  children smoker     region      charges\n",
       "0      19  female  27.900         0    yes  southwest  16884.92400\n",
       "1      18    male  33.770         1     no  southeast   1725.55230\n",
       "2      28    male  33.000         3     no  southeast   4449.46200\n",
       "3      33    male  22.705         0     no  northwest  21984.47061\n",
       "4      32    male  28.880         0     no  northwest   3866.85520\n",
       "...   ...     ...     ...       ...    ...        ...          ...\n",
       "1333   50    male  30.970         3     no  northwest  10600.54830\n",
       "1334   18  female  31.920         0     no  northeast   2205.98080\n",
       "1335   18  female  36.850         0     no  southeast   1629.83350\n",
       "1336   21  female  25.800         0     no  southwest   2007.94500\n",
       "1337   61  female  29.070         0    yes  northwest  29141.36030\n",
       "\n",
       "[1338 rows x 7 columns]"
      ]
     },
     "execution_count": 2,
     "metadata": {},
     "output_type": "execute_result"
    }
   ],
   "source": [
    "df = pd.read_csv('insurance.csv')\n",
    "df"
   ]
  },
  {
   "cell_type": "code",
   "execution_count": 3,
   "id": "f1adc848",
   "metadata": {},
   "outputs": [
    {
     "name": "stdout",
     "output_type": "stream",
     "text": [
      "<class 'pandas.core.frame.DataFrame'>\n",
      "RangeIndex: 1338 entries, 0 to 1337\n",
      "Data columns (total 7 columns):\n",
      " #   Column    Non-Null Count  Dtype  \n",
      "---  ------    --------------  -----  \n",
      " 0   age       1338 non-null   int64  \n",
      " 1   sex       1338 non-null   object \n",
      " 2   bmi       1338 non-null   float64\n",
      " 3   children  1338 non-null   int64  \n",
      " 4   smoker    1338 non-null   object \n",
      " 5   region    1338 non-null   object \n",
      " 6   charges   1338 non-null   float64\n",
      "dtypes: float64(2), int64(2), object(3)\n",
      "memory usage: 73.3+ KB\n"
     ]
    }
   ],
   "source": [
    "df.info()"
   ]
  },
  {
   "cell_type": "code",
   "execution_count": 4,
   "id": "d4bfeabf",
   "metadata": {},
   "outputs": [
    {
     "data": {
      "application/vnd.microsoft.datawrangler.viewer.v0+json": {
       "columns": [
        {
         "name": "index",
         "rawType": "object",
         "type": "string"
        },
        {
         "name": "age",
         "rawType": "float64",
         "type": "float"
        },
        {
         "name": "bmi",
         "rawType": "float64",
         "type": "float"
        },
        {
         "name": "children",
         "rawType": "float64",
         "type": "float"
        },
        {
         "name": "charges",
         "rawType": "float64",
         "type": "float"
        }
       ],
       "ref": "f1fac963-e12e-493b-a75b-3bf26aaec65b",
       "rows": [
        [
         "count",
         "1338.0",
         "1338.0",
         "1338.0",
         "1338.0"
        ],
        [
         "mean",
         "39.20702541106129",
         "30.66339686098655",
         "1.0949177877429",
         "13270.422265141257"
        ],
        [
         "std",
         "14.049960379216154",
         "6.098186911679014",
         "1.205492739781914",
         "12110.011236694001"
        ],
        [
         "min",
         "18.0",
         "15.96",
         "0.0",
         "1121.8739"
        ],
        [
         "25%",
         "27.0",
         "26.29625",
         "0.0",
         "4740.28715"
        ],
        [
         "50%",
         "39.0",
         "30.4",
         "1.0",
         "9382.033"
        ],
        [
         "75%",
         "51.0",
         "34.69375",
         "2.0",
         "16639.912515"
        ],
        [
         "max",
         "64.0",
         "53.13",
         "5.0",
         "63770.42801"
        ]
       ],
       "shape": {
        "columns": 4,
        "rows": 8
       }
      },
      "text/html": [
       "<div>\n",
       "<style scoped>\n",
       "    .dataframe tbody tr th:only-of-type {\n",
       "        vertical-align: middle;\n",
       "    }\n",
       "\n",
       "    .dataframe tbody tr th {\n",
       "        vertical-align: top;\n",
       "    }\n",
       "\n",
       "    .dataframe thead th {\n",
       "        text-align: right;\n",
       "    }\n",
       "</style>\n",
       "<table border=\"1\" class=\"dataframe\">\n",
       "  <thead>\n",
       "    <tr style=\"text-align: right;\">\n",
       "      <th></th>\n",
       "      <th>age</th>\n",
       "      <th>bmi</th>\n",
       "      <th>children</th>\n",
       "      <th>charges</th>\n",
       "    </tr>\n",
       "  </thead>\n",
       "  <tbody>\n",
       "    <tr>\n",
       "      <th>count</th>\n",
       "      <td>1338.000000</td>\n",
       "      <td>1338.000000</td>\n",
       "      <td>1338.000000</td>\n",
       "      <td>1338.000000</td>\n",
       "    </tr>\n",
       "    <tr>\n",
       "      <th>mean</th>\n",
       "      <td>39.207025</td>\n",
       "      <td>30.663397</td>\n",
       "      <td>1.094918</td>\n",
       "      <td>13270.422265</td>\n",
       "    </tr>\n",
       "    <tr>\n",
       "      <th>std</th>\n",
       "      <td>14.049960</td>\n",
       "      <td>6.098187</td>\n",
       "      <td>1.205493</td>\n",
       "      <td>12110.011237</td>\n",
       "    </tr>\n",
       "    <tr>\n",
       "      <th>min</th>\n",
       "      <td>18.000000</td>\n",
       "      <td>15.960000</td>\n",
       "      <td>0.000000</td>\n",
       "      <td>1121.873900</td>\n",
       "    </tr>\n",
       "    <tr>\n",
       "      <th>25%</th>\n",
       "      <td>27.000000</td>\n",
       "      <td>26.296250</td>\n",
       "      <td>0.000000</td>\n",
       "      <td>4740.287150</td>\n",
       "    </tr>\n",
       "    <tr>\n",
       "      <th>50%</th>\n",
       "      <td>39.000000</td>\n",
       "      <td>30.400000</td>\n",
       "      <td>1.000000</td>\n",
       "      <td>9382.033000</td>\n",
       "    </tr>\n",
       "    <tr>\n",
       "      <th>75%</th>\n",
       "      <td>51.000000</td>\n",
       "      <td>34.693750</td>\n",
       "      <td>2.000000</td>\n",
       "      <td>16639.912515</td>\n",
       "    </tr>\n",
       "    <tr>\n",
       "      <th>max</th>\n",
       "      <td>64.000000</td>\n",
       "      <td>53.130000</td>\n",
       "      <td>5.000000</td>\n",
       "      <td>63770.428010</td>\n",
       "    </tr>\n",
       "  </tbody>\n",
       "</table>\n",
       "</div>"
      ],
      "text/plain": [
       "               age          bmi     children       charges\n",
       "count  1338.000000  1338.000000  1338.000000   1338.000000\n",
       "mean     39.207025    30.663397     1.094918  13270.422265\n",
       "std      14.049960     6.098187     1.205493  12110.011237\n",
       "min      18.000000    15.960000     0.000000   1121.873900\n",
       "25%      27.000000    26.296250     0.000000   4740.287150\n",
       "50%      39.000000    30.400000     1.000000   9382.033000\n",
       "75%      51.000000    34.693750     2.000000  16639.912515\n",
       "max      64.000000    53.130000     5.000000  63770.428010"
      ]
     },
     "execution_count": 4,
     "metadata": {},
     "output_type": "execute_result"
    }
   ],
   "source": [
    "df.describe()"
   ]
  },
  {
   "cell_type": "code",
   "execution_count": 5,
   "id": "9395731a",
   "metadata": {},
   "outputs": [
    {
     "data": {
      "text/plain": [
       "(1338, 7)"
      ]
     },
     "execution_count": 5,
     "metadata": {},
     "output_type": "execute_result"
    }
   ],
   "source": [
    "df.shape"
   ]
  },
  {
   "cell_type": "markdown",
   "id": "8dbf8a29",
   "metadata": {},
   "source": [
    "The dataset contains:\n",
    "- 1338 rows and 7 columns"
   ]
  },
  {
   "cell_type": "markdown",
   "id": "2564721d",
   "metadata": {},
   "source": [
    "## Data Cleaning"
   ]
  },
  {
   "cell_type": "code",
   "execution_count": 6,
   "id": "c349373a",
   "metadata": {},
   "outputs": [],
   "source": [
    "df = df.copy()"
   ]
  },
  {
   "cell_type": "code",
   "execution_count": 7,
   "id": "017e717a",
   "metadata": {},
   "outputs": [
    {
     "data": {
      "application/vnd.microsoft.datawrangler.viewer.v0+json": {
       "columns": [
        {
         "name": "index",
         "rawType": "object",
         "type": "string"
        },
        {
         "name": "0",
         "rawType": "int64",
         "type": "integer"
        }
       ],
       "ref": "7cab3758-acbf-42d9-a607-f1871dc6ea1b",
       "rows": [
        [
         "age",
         "0"
        ],
        [
         "sex",
         "0"
        ],
        [
         "bmi",
         "0"
        ],
        [
         "children",
         "0"
        ],
        [
         "smoker",
         "0"
        ],
        [
         "region",
         "0"
        ],
        [
         "charges",
         "0"
        ]
       ],
       "shape": {
        "columns": 1,
        "rows": 7
       }
      },
      "text/plain": [
       "age         0\n",
       "sex         0\n",
       "bmi         0\n",
       "children    0\n",
       "smoker      0\n",
       "region      0\n",
       "charges     0\n",
       "dtype: int64"
      ]
     },
     "execution_count": 7,
     "metadata": {},
     "output_type": "execute_result"
    }
   ],
   "source": [
    "df.isna().sum()"
   ]
  },
  {
   "cell_type": "code",
   "execution_count": 8,
   "id": "831bd039",
   "metadata": {},
   "outputs": [
    {
     "data": {
      "text/plain": [
       "1"
      ]
     },
     "execution_count": 8,
     "metadata": {},
     "output_type": "execute_result"
    }
   ],
   "source": [
    "# checking duplicates\n",
    "df.duplicated().sum()"
   ]
  },
  {
   "cell_type": "code",
   "execution_count": 9,
   "id": "41887cd8",
   "metadata": {},
   "outputs": [],
   "source": [
    "# dropping duplicates\n",
    "df = df.drop_duplicates()"
   ]
  },
  {
   "cell_type": "code",
   "execution_count": 10,
   "id": "2eb658c0",
   "metadata": {},
   "outputs": [],
   "source": [
    "# standardize the decimal places of charges and columns \n",
    "df.loc[:, 'charges'] = df['charges'].round(2)\n",
    "df.loc[:, 'bmi'] = df['bmi'].round(2)\n"
   ]
  },
  {
   "cell_type": "code",
   "execution_count": 11,
   "id": "58cbb930",
   "metadata": {},
   "outputs": [],
   "source": [
    "# encoding the categorical features\n",
    "categorical = ['sex', 'smoker', 'region']\n",
    "\n",
    "encoder = OneHotEncoder(drop='first', sparse=False)\n",
    "\n",
    "# fit andd transform the categorical columns\n",
    "encoded_array = encoder.fit_transform(df[categorical])\n",
    "\n",
    "# encoded feature names\n",
    "encoded_cols = encoder.get_feature_names(categorical)"
   ]
  },
  {
   "cell_type": "code",
   "execution_count": 12,
   "id": "d73ae671",
   "metadata": {},
   "outputs": [],
   "source": [
    "# convert to dataframe\n",
    "encoded_df = pd.DataFrame(encoded_array, columns=encoded_cols, index=df.index)\n",
    "\n",
    "# Drop original categorical columns and concatenate the encoded DataFrame\n",
    "df_encoded = pd.concat([df.drop(columns=categorical), encoded_df], axis=1)"
   ]
  },
  {
   "cell_type": "code",
   "execution_count": 13,
   "id": "d560e1b3",
   "metadata": {},
   "outputs": [
    {
     "data": {
      "application/vnd.microsoft.datawrangler.viewer.v0+json": {
       "columns": [
        {
         "name": "index",
         "rawType": "int64",
         "type": "integer"
        },
        {
         "name": "age",
         "rawType": "int64",
         "type": "integer"
        },
        {
         "name": "bmi",
         "rawType": "float64",
         "type": "float"
        },
        {
         "name": "children",
         "rawType": "int64",
         "type": "integer"
        },
        {
         "name": "charges",
         "rawType": "float64",
         "type": "float"
        },
        {
         "name": "sex_male",
         "rawType": "float64",
         "type": "float"
        },
        {
         "name": "smoker_yes",
         "rawType": "float64",
         "type": "float"
        },
        {
         "name": "region_northwest",
         "rawType": "float64",
         "type": "float"
        },
        {
         "name": "region_southeast",
         "rawType": "float64",
         "type": "float"
        },
        {
         "name": "region_southwest",
         "rawType": "float64",
         "type": "float"
        }
       ],
       "ref": "af24ffb8-0ba5-489d-ae45-2ec29baab9d1",
       "rows": [
        [
         "0",
         "19",
         "27.9",
         "0",
         "16884.92",
         "0.0",
         "1.0",
         "0.0",
         "0.0",
         "1.0"
        ],
        [
         "1",
         "18",
         "33.77",
         "1",
         "1725.55",
         "1.0",
         "0.0",
         "0.0",
         "1.0",
         "0.0"
        ],
        [
         "2",
         "28",
         "33.0",
         "3",
         "4449.46",
         "1.0",
         "0.0",
         "0.0",
         "1.0",
         "0.0"
        ],
        [
         "3",
         "33",
         "22.7",
         "0",
         "21984.47",
         "1.0",
         "0.0",
         "1.0",
         "0.0",
         "0.0"
        ],
        [
         "4",
         "32",
         "28.88",
         "0",
         "3866.86",
         "1.0",
         "0.0",
         "1.0",
         "0.0",
         "0.0"
        ],
        [
         "5",
         "31",
         "25.74",
         "0",
         "3756.62",
         "0.0",
         "0.0",
         "0.0",
         "1.0",
         "0.0"
        ],
        [
         "6",
         "46",
         "33.44",
         "1",
         "8240.59",
         "0.0",
         "0.0",
         "0.0",
         "1.0",
         "0.0"
        ],
        [
         "7",
         "37",
         "27.74",
         "3",
         "7281.51",
         "0.0",
         "0.0",
         "1.0",
         "0.0",
         "0.0"
        ],
        [
         "8",
         "37",
         "29.83",
         "2",
         "6406.41",
         "1.0",
         "0.0",
         "0.0",
         "0.0",
         "0.0"
        ],
        [
         "9",
         "60",
         "25.84",
         "0",
         "28923.14",
         "0.0",
         "0.0",
         "1.0",
         "0.0",
         "0.0"
        ],
        [
         "10",
         "25",
         "26.22",
         "0",
         "2721.32",
         "1.0",
         "0.0",
         "0.0",
         "0.0",
         "0.0"
        ],
        [
         "11",
         "62",
         "26.29",
         "0",
         "27808.73",
         "0.0",
         "1.0",
         "0.0",
         "1.0",
         "0.0"
        ],
        [
         "12",
         "23",
         "34.4",
         "0",
         "1826.84",
         "1.0",
         "0.0",
         "0.0",
         "0.0",
         "1.0"
        ],
        [
         "13",
         "56",
         "39.82",
         "0",
         "11090.72",
         "0.0",
         "0.0",
         "0.0",
         "1.0",
         "0.0"
        ],
        [
         "14",
         "27",
         "42.13",
         "0",
         "39611.76",
         "1.0",
         "1.0",
         "0.0",
         "1.0",
         "0.0"
        ],
        [
         "15",
         "19",
         "24.6",
         "1",
         "1837.24",
         "1.0",
         "0.0",
         "0.0",
         "0.0",
         "1.0"
        ],
        [
         "16",
         "52",
         "30.78",
         "1",
         "10797.34",
         "0.0",
         "0.0",
         "0.0",
         "0.0",
         "0.0"
        ],
        [
         "17",
         "23",
         "23.84",
         "0",
         "2395.17",
         "1.0",
         "0.0",
         "0.0",
         "0.0",
         "0.0"
        ],
        [
         "18",
         "56",
         "40.3",
         "0",
         "10602.38",
         "1.0",
         "0.0",
         "0.0",
         "0.0",
         "1.0"
        ],
        [
         "19",
         "30",
         "35.3",
         "0",
         "36837.47",
         "1.0",
         "1.0",
         "0.0",
         "0.0",
         "1.0"
        ],
        [
         "20",
         "60",
         "36.01",
         "0",
         "13228.85",
         "0.0",
         "0.0",
         "0.0",
         "0.0",
         "0.0"
        ],
        [
         "21",
         "30",
         "32.4",
         "1",
         "4149.74",
         "0.0",
         "0.0",
         "0.0",
         "0.0",
         "1.0"
        ],
        [
         "22",
         "18",
         "34.1",
         "0",
         "1137.01",
         "1.0",
         "0.0",
         "0.0",
         "1.0",
         "0.0"
        ],
        [
         "23",
         "34",
         "31.92",
         "1",
         "37701.88",
         "0.0",
         "1.0",
         "0.0",
         "0.0",
         "0.0"
        ],
        [
         "24",
         "37",
         "28.02",
         "2",
         "6203.9",
         "1.0",
         "0.0",
         "1.0",
         "0.0",
         "0.0"
        ],
        [
         "25",
         "59",
         "27.72",
         "3",
         "14001.13",
         "0.0",
         "0.0",
         "0.0",
         "1.0",
         "0.0"
        ],
        [
         "26",
         "63",
         "23.08",
         "0",
         "14451.84",
         "0.0",
         "0.0",
         "0.0",
         "0.0",
         "0.0"
        ],
        [
         "27",
         "55",
         "32.78",
         "2",
         "12268.63",
         "0.0",
         "0.0",
         "1.0",
         "0.0",
         "0.0"
        ],
        [
         "28",
         "23",
         "17.39",
         "1",
         "2775.19",
         "1.0",
         "0.0",
         "1.0",
         "0.0",
         "0.0"
        ],
        [
         "29",
         "31",
         "36.3",
         "2",
         "38711.0",
         "1.0",
         "1.0",
         "0.0",
         "0.0",
         "1.0"
        ],
        [
         "30",
         "22",
         "35.6",
         "0",
         "35585.58",
         "1.0",
         "1.0",
         "0.0",
         "0.0",
         "1.0"
        ],
        [
         "31",
         "18",
         "26.32",
         "0",
         "2198.19",
         "0.0",
         "0.0",
         "0.0",
         "0.0",
         "0.0"
        ],
        [
         "32",
         "19",
         "28.6",
         "5",
         "4687.8",
         "0.0",
         "0.0",
         "0.0",
         "0.0",
         "1.0"
        ],
        [
         "33",
         "63",
         "28.31",
         "0",
         "13770.1",
         "1.0",
         "0.0",
         "1.0",
         "0.0",
         "0.0"
        ],
        [
         "34",
         "28",
         "36.4",
         "1",
         "51194.56",
         "1.0",
         "1.0",
         "0.0",
         "0.0",
         "1.0"
        ],
        [
         "35",
         "19",
         "20.42",
         "0",
         "1625.43",
         "1.0",
         "0.0",
         "1.0",
         "0.0",
         "0.0"
        ],
        [
         "36",
         "62",
         "32.97",
         "3",
         "15612.19",
         "0.0",
         "0.0",
         "1.0",
         "0.0",
         "0.0"
        ],
        [
         "37",
         "26",
         "20.8",
         "0",
         "2302.3",
         "1.0",
         "0.0",
         "0.0",
         "0.0",
         "1.0"
        ],
        [
         "38",
         "35",
         "36.67",
         "1",
         "39774.28",
         "1.0",
         "1.0",
         "0.0",
         "0.0",
         "0.0"
        ],
        [
         "39",
         "60",
         "39.9",
         "0",
         "48173.36",
         "1.0",
         "1.0",
         "0.0",
         "0.0",
         "1.0"
        ],
        [
         "40",
         "24",
         "26.6",
         "0",
         "3046.06",
         "0.0",
         "0.0",
         "0.0",
         "0.0",
         "0.0"
        ],
        [
         "41",
         "31",
         "36.63",
         "2",
         "4949.76",
         "0.0",
         "0.0",
         "0.0",
         "1.0",
         "0.0"
        ],
        [
         "42",
         "41",
         "21.78",
         "1",
         "6272.48",
         "1.0",
         "0.0",
         "0.0",
         "1.0",
         "0.0"
        ],
        [
         "43",
         "37",
         "30.8",
         "2",
         "6313.76",
         "0.0",
         "0.0",
         "0.0",
         "1.0",
         "0.0"
        ],
        [
         "44",
         "38",
         "37.05",
         "1",
         "6079.67",
         "1.0",
         "0.0",
         "0.0",
         "0.0",
         "0.0"
        ],
        [
         "45",
         "55",
         "37.3",
         "0",
         "20630.28",
         "1.0",
         "0.0",
         "0.0",
         "0.0",
         "1.0"
        ],
        [
         "46",
         "18",
         "38.66",
         "2",
         "3393.36",
         "0.0",
         "0.0",
         "0.0",
         "0.0",
         "0.0"
        ],
        [
         "47",
         "28",
         "34.77",
         "0",
         "3556.92",
         "0.0",
         "0.0",
         "1.0",
         "0.0",
         "0.0"
        ],
        [
         "48",
         "60",
         "24.53",
         "0",
         "12629.9",
         "0.0",
         "0.0",
         "0.0",
         "1.0",
         "0.0"
        ],
        [
         "49",
         "36",
         "35.2",
         "1",
         "38709.18",
         "1.0",
         "1.0",
         "0.0",
         "1.0",
         "0.0"
        ]
       ],
       "shape": {
        "columns": 9,
        "rows": 1337
       }
      },
      "text/html": [
       "<div>\n",
       "<style scoped>\n",
       "    .dataframe tbody tr th:only-of-type {\n",
       "        vertical-align: middle;\n",
       "    }\n",
       "\n",
       "    .dataframe tbody tr th {\n",
       "        vertical-align: top;\n",
       "    }\n",
       "\n",
       "    .dataframe thead th {\n",
       "        text-align: right;\n",
       "    }\n",
       "</style>\n",
       "<table border=\"1\" class=\"dataframe\">\n",
       "  <thead>\n",
       "    <tr style=\"text-align: right;\">\n",
       "      <th></th>\n",
       "      <th>age</th>\n",
       "      <th>bmi</th>\n",
       "      <th>children</th>\n",
       "      <th>charges</th>\n",
       "      <th>sex_male</th>\n",
       "      <th>smoker_yes</th>\n",
       "      <th>region_northwest</th>\n",
       "      <th>region_southeast</th>\n",
       "      <th>region_southwest</th>\n",
       "    </tr>\n",
       "  </thead>\n",
       "  <tbody>\n",
       "    <tr>\n",
       "      <th>0</th>\n",
       "      <td>19</td>\n",
       "      <td>27.90</td>\n",
       "      <td>0</td>\n",
       "      <td>16884.92</td>\n",
       "      <td>0.0</td>\n",
       "      <td>1.0</td>\n",
       "      <td>0.0</td>\n",
       "      <td>0.0</td>\n",
       "      <td>1.0</td>\n",
       "    </tr>\n",
       "    <tr>\n",
       "      <th>1</th>\n",
       "      <td>18</td>\n",
       "      <td>33.77</td>\n",
       "      <td>1</td>\n",
       "      <td>1725.55</td>\n",
       "      <td>1.0</td>\n",
       "      <td>0.0</td>\n",
       "      <td>0.0</td>\n",
       "      <td>1.0</td>\n",
       "      <td>0.0</td>\n",
       "    </tr>\n",
       "    <tr>\n",
       "      <th>2</th>\n",
       "      <td>28</td>\n",
       "      <td>33.00</td>\n",
       "      <td>3</td>\n",
       "      <td>4449.46</td>\n",
       "      <td>1.0</td>\n",
       "      <td>0.0</td>\n",
       "      <td>0.0</td>\n",
       "      <td>1.0</td>\n",
       "      <td>0.0</td>\n",
       "    </tr>\n",
       "    <tr>\n",
       "      <th>3</th>\n",
       "      <td>33</td>\n",
       "      <td>22.70</td>\n",
       "      <td>0</td>\n",
       "      <td>21984.47</td>\n",
       "      <td>1.0</td>\n",
       "      <td>0.0</td>\n",
       "      <td>1.0</td>\n",
       "      <td>0.0</td>\n",
       "      <td>0.0</td>\n",
       "    </tr>\n",
       "    <tr>\n",
       "      <th>4</th>\n",
       "      <td>32</td>\n",
       "      <td>28.88</td>\n",
       "      <td>0</td>\n",
       "      <td>3866.86</td>\n",
       "      <td>1.0</td>\n",
       "      <td>0.0</td>\n",
       "      <td>1.0</td>\n",
       "      <td>0.0</td>\n",
       "      <td>0.0</td>\n",
       "    </tr>\n",
       "    <tr>\n",
       "      <th>...</th>\n",
       "      <td>...</td>\n",
       "      <td>...</td>\n",
       "      <td>...</td>\n",
       "      <td>...</td>\n",
       "      <td>...</td>\n",
       "      <td>...</td>\n",
       "      <td>...</td>\n",
       "      <td>...</td>\n",
       "      <td>...</td>\n",
       "    </tr>\n",
       "    <tr>\n",
       "      <th>1333</th>\n",
       "      <td>50</td>\n",
       "      <td>30.97</td>\n",
       "      <td>3</td>\n",
       "      <td>10600.55</td>\n",
       "      <td>1.0</td>\n",
       "      <td>0.0</td>\n",
       "      <td>1.0</td>\n",
       "      <td>0.0</td>\n",
       "      <td>0.0</td>\n",
       "    </tr>\n",
       "    <tr>\n",
       "      <th>1334</th>\n",
       "      <td>18</td>\n",
       "      <td>31.92</td>\n",
       "      <td>0</td>\n",
       "      <td>2205.98</td>\n",
       "      <td>0.0</td>\n",
       "      <td>0.0</td>\n",
       "      <td>0.0</td>\n",
       "      <td>0.0</td>\n",
       "      <td>0.0</td>\n",
       "    </tr>\n",
       "    <tr>\n",
       "      <th>1335</th>\n",
       "      <td>18</td>\n",
       "      <td>36.85</td>\n",
       "      <td>0</td>\n",
       "      <td>1629.83</td>\n",
       "      <td>0.0</td>\n",
       "      <td>0.0</td>\n",
       "      <td>0.0</td>\n",
       "      <td>1.0</td>\n",
       "      <td>0.0</td>\n",
       "    </tr>\n",
       "    <tr>\n",
       "      <th>1336</th>\n",
       "      <td>21</td>\n",
       "      <td>25.80</td>\n",
       "      <td>0</td>\n",
       "      <td>2007.94</td>\n",
       "      <td>0.0</td>\n",
       "      <td>0.0</td>\n",
       "      <td>0.0</td>\n",
       "      <td>0.0</td>\n",
       "      <td>1.0</td>\n",
       "    </tr>\n",
       "    <tr>\n",
       "      <th>1337</th>\n",
       "      <td>61</td>\n",
       "      <td>29.07</td>\n",
       "      <td>0</td>\n",
       "      <td>29141.36</td>\n",
       "      <td>0.0</td>\n",
       "      <td>1.0</td>\n",
       "      <td>1.0</td>\n",
       "      <td>0.0</td>\n",
       "      <td>0.0</td>\n",
       "    </tr>\n",
       "  </tbody>\n",
       "</table>\n",
       "<p>1337 rows × 9 columns</p>\n",
       "</div>"
      ],
      "text/plain": [
       "      age    bmi  children   charges  sex_male  smoker_yes  region_northwest  \\\n",
       "0      19  27.90         0  16884.92       0.0         1.0               0.0   \n",
       "1      18  33.77         1   1725.55       1.0         0.0               0.0   \n",
       "2      28  33.00         3   4449.46       1.0         0.0               0.0   \n",
       "3      33  22.70         0  21984.47       1.0         0.0               1.0   \n",
       "4      32  28.88         0   3866.86       1.0         0.0               1.0   \n",
       "...   ...    ...       ...       ...       ...         ...               ...   \n",
       "1333   50  30.97         3  10600.55       1.0         0.0               1.0   \n",
       "1334   18  31.92         0   2205.98       0.0         0.0               0.0   \n",
       "1335   18  36.85         0   1629.83       0.0         0.0               0.0   \n",
       "1336   21  25.80         0   2007.94       0.0         0.0               0.0   \n",
       "1337   61  29.07         0  29141.36       0.0         1.0               1.0   \n",
       "\n",
       "      region_southeast  region_southwest  \n",
       "0                  0.0               1.0  \n",
       "1                  1.0               0.0  \n",
       "2                  1.0               0.0  \n",
       "3                  0.0               0.0  \n",
       "4                  0.0               0.0  \n",
       "...                ...               ...  \n",
       "1333               0.0               0.0  \n",
       "1334               0.0               0.0  \n",
       "1335               1.0               0.0  \n",
       "1336               0.0               1.0  \n",
       "1337               0.0               0.0  \n",
       "\n",
       "[1337 rows x 9 columns]"
      ]
     },
     "execution_count": 13,
     "metadata": {},
     "output_type": "execute_result"
    }
   ],
   "source": [
    "df_encoded"
   ]
  },
  {
   "cell_type": "markdown",
   "id": "f6f11790",
   "metadata": {},
   "source": [
    "## Exploratory Data Analysis"
   ]
  },
  {
   "cell_type": "code",
   "execution_count": 14,
   "id": "130a5d97",
   "metadata": {},
   "outputs": [
    {
     "data": {
      "image/png": "[encoded data removed]",
      "text/plain": [
       "<Figure size 720x360 with 2 Axes>"
      ]
     },
     "metadata": {
      "needs_background": "light"
     },
     "output_type": "display_data"
    }
   ],
   "source": [
    "correlation_matrix = df_encoded.corr()['charges'].sort_values(ascending=False).to_frame()\n",
    "\n",
    "import seaborn as sns\n",
    "plt.figure(figsize=(10,5))\n",
    "sns.heatmap(correlation_matrix,annot=True, cmap = 'coolwarm', fmt='2f')\n",
    "plt.title('Correlation Heatmap')\n",
    "plt.show()"
   ]
  },
  {
   "cell_type": "markdown",
   "id": "0af87880",
   "metadata": {},
   "source": [
    "## Modelling and Evaluation"
   ]
  },
  {
   "cell_type": "code",
   "execution_count": 15,
   "id": "8fca6106",
   "metadata": {},
   "outputs": [],
   "source": [
    "# features and target\n",
    "X = df_encoded.drop(columns=['charges'], axis = 1)\n",
    "y = df_encoded['charges']\n",
    "\n"
   ]
  },
  {
   "cell_type": "code",
   "execution_count": 16,
   "id": "0d47db11",
   "metadata": {},
   "outputs": [],
   "source": [
    "# Train test split\n",
    "X_train, X_test, y_train, y_test = train_test_split(X, y, test_size=0.2, random_state=42)"
   ]
  },
  {
   "cell_type": "markdown",
   "id": "9928865b",
   "metadata": {},
   "source": [
    "### 1. Muliple Linear Regression"
   ]
  },
  {
   "cell_type": "code",
   "execution_count": 17,
   "id": "e8f3c082",
   "metadata": {},
   "outputs": [],
   "source": [
    "# linear regression\n",
    "lr_model = LinearRegression()\n",
    "lr_model.fit(X_train, y_train)\n",
    "\n",
    "# predict\n",
    "y_pred_lr = lr_model.predict(X_test)"
   ]
  },
  {
   "cell_type": "code",
   "execution_count": 19,
   "id": "a0465d84",
   "metadata": {},
   "outputs": [
    {
     "name": "stdout",
     "output_type": "stream",
     "text": [
      "Mean Absolute Error: 4177.02\n",
      "Mean Squared Error: 35478636.52\n",
      "R squared: 0.81\n",
      "Root Mean Squared Error (RMSE): 5956.39\n"
     ]
    }
   ],
   "source": [
    "# Evaluate\n",
    "from sklearn.metrics import mean_absolute_error, mean_squared_error, r2_score\n",
    "\n",
    "mse = mean_squared_error(y_test, y_pred_lr)\n",
    "mae = mean_absolute_error(y_test, y_pred_lr)\n",
    "rmse = np.sqrt(mse)\n",
    "r2 = r2_score(y_test, y_pred_lr)\n",
    "\n",
    "print(f'Mean Absolute Error: {mae:.2f}')\n",
    "print(f'Mean Squared Error: {mse:.2f}')\n",
    "print(f'R squared: {r2:.2f}')\n",
    "print(f\"Root Mean Squared Error (RMSE): {rmse:.2f}\")"
   ]
  },
  {
   "cell_type": "markdown",
   "id": "5c138b47",
   "metadata": {},
   "source": [
    "Interpretation:\n",
    "- MAE ($4177.02): On average, predictions deviate by $4.2K from the actual charges\n",
    "- RMSE ($5956.39) : Some predictions deviate even more, meaning outliers or high charges are harder to predict accurately\n",
    "- R-squared scoree = 0.81 : The model explains 81% of the variance in medical charges."
   ]
  },
  {
   "cell_type": "markdown",
   "id": "ddcf53e1",
   "metadata": {},
   "source": [
    "### 2 Linear Regression with Log Transformations"
   ]
  },
  {
   "cell_type": "code",
   "execution_count": 20,
   "id": "89078eab",
   "metadata": {},
   "outputs": [],
   "source": [
    "# log transformation on a feature\n",
    "df_encoded['charges_log'] = np.log(df_encoded['charges'])\n",
    "\n",
    "y_log = df_encoded['charges_log']\n"
   ]
  },
  {
   "cell_type": "code",
   "execution_count": 21,
   "id": "b49a93c5",
   "metadata": {},
   "outputs": [
    {
     "data": {
      "image/png": "[encoded data removed]",
      "text/plain": [
       "<Figure size 432x288 with 1 Axes>"
      ]
     },
     "metadata": {
      "needs_background": "light"
     },
     "output_type": "display_data"
    }
   ],
   "source": [
    "# original distribution\n",
    "sns.histplot(df_encoded['charges'], kde=True)\n",
    "plt.title('Original charges distribution')\n",
    "plt.show()"
   ]
  },
  {
   "cell_type": "code",
   "execution_count": 22,
   "id": "5c7d4efc",
   "metadata": {},
   "outputs": [
    {
     "data": {
      "image/png": "[encoded data removed]",
      "text/plain": [
       "<Figure size 432x288 with 1 Axes>"
      ]
     },
     "metadata": {
      "needs_background": "light"
     },
     "output_type": "display_data"
    }
   ],
   "source": [
    "sns.histplot(df_encoded['charges_log'], kde=True)\n",
    "plt.title('Log_Transformed charges distribution')\n",
    "plt.show()"
   ]
  },
  {
   "cell_type": "code",
   "execution_count": 25,
   "id": "91ac0b04",
   "metadata": {},
   "outputs": [],
   "source": [
    "# Train test split log\n",
    "X_train, X_test, y_train_log, y_test_log = train_test_split(X, y_log, test_size=0.2, random_state=42)"
   ]
  },
  {
   "cell_type": "code",
   "execution_count": 27,
   "id": "5058dd29",
   "metadata": {},
   "outputs": [],
   "source": [
    "# log model\n",
    "log_lr_model = LinearRegression().fit(X_train, y_train_log)\n",
    "\n",
    "# predictions\n",
    "y_pred_log = log_lr_model.predict(X_test)\n",
    "\n",
    "\n",
    "# Convert predictions back to original scale\n",
    "y_pred_original = np.exp(y_pred_log)\n",
    "y_test_original = np.exp(y_test_log)"
   ]
  },
  {
   "cell_type": "code",
   "execution_count": 28,
   "id": "b9d33914",
   "metadata": {},
   "outputs": [
    {
     "name": "stdout",
     "output_type": "stream",
     "text": [
      "MAE (after log transform): 3756.22\n",
      "RMSE (after log transform): 7198.04\n",
      "R² Score (after log transform): 0.7180\n"
     ]
    }
   ],
   "source": [
    "# Evaluate on original scale\n",
    "mae_log = mean_absolute_error(y_test_original, y_pred_original)\n",
    "rmse_log = np.sqrt(mean_squared_error(y_test_original, y_pred_original))\n",
    "r2_log = r2_score(y_test_original, y_pred_original)\n",
    "\n",
    "print(f\"MAE (after log transform): {mae_log:.2f}\")\n",
    "print(f\"RMSE (after log transform): {rmse_log:.2f}\")\n",
    "print(f\"R² Score (after log transform): {r2_log:.4f}\")\n"
   ]
  },
  {
   "cell_type": "markdown",
   "id": "f0147beb",
   "metadata": {},
   "source": [
    "The log transformation was not really helpful even if it improved the mean absolute error from $4177 to $ 3756 but the other evaluation metrics that is Root Mean Squared Error and R squared became worse.\n"
   ]
  },
  {
   "cell_type": "code",
   "execution_count": null,
   "id": "d649685c",
   "metadata": {},
   "outputs": [],
   "source": []
  }
 ],
 "metadata": {
  "kernelspec": {
   "display_name": "learn-env",
   "language": "python",
   "name": "python3"
  },
  "language_info": {
   "codemirror_mode": {
    "name": "ipython",
    "version": 3
   },
   "file_extension": ".py",
   "mimetype": "text/x-python",
   "name": "python",
   "nbconvert_exporter": "python",
   "pygments_lexer": "ipython3",
   "version": "3.8.5"
  }
 },
 "nbformat": 4,
 "nbformat_minor": 5
}
